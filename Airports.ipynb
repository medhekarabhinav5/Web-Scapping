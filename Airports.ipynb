{
 "cells": [
  {
   "cell_type": "code",
   "execution_count": 18,
   "metadata": {},
   "outputs": [],
   "source": [
    "import numpy as np\n",
    "import pandas as pd"
   ]
  },
  {
   "cell_type": "code",
   "execution_count": 19,
   "metadata": {},
   "outputs": [],
   "source": [
    "from selenium import webdriver"
   ]
  },
  {
   "cell_type": "code",
   "execution_count": 20,
   "metadata": {},
   "outputs": [],
   "source": [
    "from selenium.webdriver.chrome.options import Options"
   ]
  },
  {
   "cell_type": "code",
   "execution_count": 21,
   "metadata": {},
   "outputs": [],
   "source": [
    "from selenium.webdriver.common.keys import Keys"
   ]
  },
  {
   "cell_type": "code",
   "execution_count": 22,
   "metadata": {},
   "outputs": [],
   "source": [
    "from selenium.webdriver.common.by import By"
   ]
  },
  {
   "cell_type": "code",
   "execution_count": 23,
   "metadata": {},
   "outputs": [],
   "source": [
    "from bs4 import BeautifulSoup"
   ]
  },
  {
   "cell_type": "code",
   "execution_count": 24,
   "metadata": {},
   "outputs": [],
   "source": [
    "import requests\n",
    "from string import ascii_lowercase"
   ]
  },
  {
   "cell_type": "code",
   "execution_count": 25,
   "metadata": {},
   "outputs": [],
   "source": [
    "CHROMEDRIVER_PATH = \"/Users/Abhinav/Desktop/chromedriver\""
   ]
  },
  {
   "cell_type": "code",
   "execution_count": 26,
   "metadata": {},
   "outputs": [],
   "source": [
    "WINDOWS_SIZE = \"1280, 800\""
   ]
  },
  {
   "cell_type": "code",
   "execution_count": 27,
   "metadata": {},
   "outputs": [],
   "source": [
    "chrome_options = Options()\n",
    "chrome_options.add_argument(\"--windows_size=%s\" % WINDOWS_SIZE)\n",
    "chrome_options.add_argument(\"--headless\")"
   ]
  },
  {
   "cell_type": "code",
   "execution_count": 28,
   "metadata": {},
   "outputs": [],
   "source": [
    "prefs = {\n",
    "    'profile.managed_default_content_settings.images' : 2\n",
    "}\n",
    "chrome_options.add_experimental_option(\"prefs\", prefs)"
   ]
  },
  {
   "cell_type": "code",
   "execution_count": null,
   "metadata": {},
   "outputs": [],
   "source": []
  },
  {
   "cell_type": "code",
   "execution_count": 29,
   "metadata": {},
   "outputs": [],
   "source": [
    "unused_links = []\n",
    "used_links = []"
   ]
  },
  {
   "cell_type": "code",
   "execution_count": 30,
   "metadata": {},
   "outputs": [],
   "source": [
    "def check_exists_by_xpath(xpath):\n",
    "    try:\n",
    "        driver.find_element_by_xpath(xpath)\n",
    "    except:\n",
    "        return False\n",
    "    return True"
   ]
  },
  {
   "cell_type": "code",
   "execution_count": 31,
   "metadata": {},
   "outputs": [
    {
     "name": "stdout",
     "output_type": "stream",
     "text": [
      "a\n"
     ]
    },
    {
     "name": "stderr",
     "output_type": "stream",
     "text": [
      "/opt/anaconda3/lib/python3.7/site-packages/ipykernel_launcher.py:6: DeprecationWarning: use options instead of chrome_options\n",
      "  \n"
     ]
    },
    {
     "name": "stdout",
     "output_type": "stream",
     "text": [
      "b\n",
      "c\n",
      "d\n",
      "e\n",
      "f\n",
      "g\n",
      "h\n",
      "i\n",
      "j\n",
      "k\n",
      "l\n",
      "m\n",
      "n\n",
      "o\n",
      "p\n",
      "q\n",
      "r\n",
      "s\n",
      "t\n",
      "u\n",
      "v\n",
      "w\n"
     ]
    },
    {
     "ename": "WebDriverException",
     "evalue": "Message: disconnected: Unable to receive message from renderer\n  (Session info: headless chrome=83.0.4103.97)\n",
     "output_type": "error",
     "traceback": [
      "\u001b[0;31m---------------------------------------------------------------------------\u001b[0m",
      "\u001b[0;31mWebDriverException\u001b[0m                        Traceback (most recent call last)",
      "\u001b[0;32m<ipython-input-31-b4576763f9fb>\u001b[0m in \u001b[0;36m<module>\u001b[0;34m\u001b[0m\n\u001b[1;32m      7\u001b[0m         )\n\u001b[1;32m      8\u001b[0m         \u001b[0murl\u001b[0m \u001b[0;34m=\u001b[0m \u001b[0;34m\"https://www.world-airport-codes.com/alphabetical/airport-code/\"\u001b[0m \u001b[0;34m+\u001b[0m \u001b[0mchar\u001b[0m \u001b[0;34m+\u001b[0m\u001b[0;34m\".html?page=\"\u001b[0m \u001b[0;34m+\u001b[0m \u001b[0mstr\u001b[0m\u001b[0;34m(\u001b[0m\u001b[0mpage_num\u001b[0m\u001b[0;34m)\u001b[0m\u001b[0;34m\u001b[0m\u001b[0;34m\u001b[0m\u001b[0m\n\u001b[0;32m----> 9\u001b[0;31m         \u001b[0mdriver\u001b[0m\u001b[0;34m.\u001b[0m\u001b[0mget\u001b[0m\u001b[0;34m(\u001b[0m\u001b[0murl\u001b[0m\u001b[0;34m)\u001b[0m\u001b[0;34m\u001b[0m\u001b[0;34m\u001b[0m\u001b[0m\n\u001b[0m\u001b[1;32m     10\u001b[0m         \u001b[0mxpath\u001b[0m \u001b[0;34m=\u001b[0m \u001b[0;34m\"/html/body/div[1]/div[4]/div/div/div/div/div[2]/main/article/table/tbody/tr[1]/th/a\"\u001b[0m\u001b[0;34m\u001b[0m\u001b[0;34m\u001b[0m\u001b[0m\n\u001b[1;32m     11\u001b[0m         \u001b[0mresponse_data\u001b[0m \u001b[0;34m=\u001b[0m \u001b[0mcheck_exists_by_xpath\u001b[0m\u001b[0;34m(\u001b[0m\u001b[0mxpath\u001b[0m\u001b[0;34m)\u001b[0m\u001b[0;34m\u001b[0m\u001b[0;34m\u001b[0m\u001b[0m\n",
      "\u001b[0;32m/opt/anaconda3/lib/python3.7/site-packages/selenium/webdriver/remote/webdriver.py\u001b[0m in \u001b[0;36mget\u001b[0;34m(self, url)\u001b[0m\n\u001b[1;32m    331\u001b[0m         \u001b[0mLoads\u001b[0m \u001b[0ma\u001b[0m \u001b[0mweb\u001b[0m \u001b[0mpage\u001b[0m \u001b[0;32min\u001b[0m \u001b[0mthe\u001b[0m \u001b[0mcurrent\u001b[0m \u001b[0mbrowser\u001b[0m \u001b[0msession\u001b[0m\u001b[0;34m.\u001b[0m\u001b[0;34m\u001b[0m\u001b[0;34m\u001b[0m\u001b[0m\n\u001b[1;32m    332\u001b[0m         \"\"\"\n\u001b[0;32m--> 333\u001b[0;31m         \u001b[0mself\u001b[0m\u001b[0;34m.\u001b[0m\u001b[0mexecute\u001b[0m\u001b[0;34m(\u001b[0m\u001b[0mCommand\u001b[0m\u001b[0;34m.\u001b[0m\u001b[0mGET\u001b[0m\u001b[0;34m,\u001b[0m \u001b[0;34m{\u001b[0m\u001b[0;34m'url'\u001b[0m\u001b[0;34m:\u001b[0m \u001b[0murl\u001b[0m\u001b[0;34m}\u001b[0m\u001b[0;34m)\u001b[0m\u001b[0;34m\u001b[0m\u001b[0;34m\u001b[0m\u001b[0m\n\u001b[0m\u001b[1;32m    334\u001b[0m \u001b[0;34m\u001b[0m\u001b[0m\n\u001b[1;32m    335\u001b[0m     \u001b[0;34m@\u001b[0m\u001b[0mproperty\u001b[0m\u001b[0;34m\u001b[0m\u001b[0;34m\u001b[0m\u001b[0m\n",
      "\u001b[0;32m/opt/anaconda3/lib/python3.7/site-packages/selenium/webdriver/remote/webdriver.py\u001b[0m in \u001b[0;36mexecute\u001b[0;34m(self, driver_command, params)\u001b[0m\n\u001b[1;32m    319\u001b[0m         \u001b[0mresponse\u001b[0m \u001b[0;34m=\u001b[0m \u001b[0mself\u001b[0m\u001b[0;34m.\u001b[0m\u001b[0mcommand_executor\u001b[0m\u001b[0;34m.\u001b[0m\u001b[0mexecute\u001b[0m\u001b[0;34m(\u001b[0m\u001b[0mdriver_command\u001b[0m\u001b[0;34m,\u001b[0m \u001b[0mparams\u001b[0m\u001b[0;34m)\u001b[0m\u001b[0;34m\u001b[0m\u001b[0;34m\u001b[0m\u001b[0m\n\u001b[1;32m    320\u001b[0m         \u001b[0;32mif\u001b[0m \u001b[0mresponse\u001b[0m\u001b[0;34m:\u001b[0m\u001b[0;34m\u001b[0m\u001b[0;34m\u001b[0m\u001b[0m\n\u001b[0;32m--> 321\u001b[0;31m             \u001b[0mself\u001b[0m\u001b[0;34m.\u001b[0m\u001b[0merror_handler\u001b[0m\u001b[0;34m.\u001b[0m\u001b[0mcheck_response\u001b[0m\u001b[0;34m(\u001b[0m\u001b[0mresponse\u001b[0m\u001b[0;34m)\u001b[0m\u001b[0;34m\u001b[0m\u001b[0;34m\u001b[0m\u001b[0m\n\u001b[0m\u001b[1;32m    322\u001b[0m             response['value'] = self._unwrap_value(\n\u001b[1;32m    323\u001b[0m                 response.get('value', None))\n",
      "\u001b[0;32m/opt/anaconda3/lib/python3.7/site-packages/selenium/webdriver/remote/errorhandler.py\u001b[0m in \u001b[0;36mcheck_response\u001b[0;34m(self, response)\u001b[0m\n\u001b[1;32m    240\u001b[0m                 \u001b[0malert_text\u001b[0m \u001b[0;34m=\u001b[0m \u001b[0mvalue\u001b[0m\u001b[0;34m[\u001b[0m\u001b[0;34m'alert'\u001b[0m\u001b[0;34m]\u001b[0m\u001b[0;34m.\u001b[0m\u001b[0mget\u001b[0m\u001b[0;34m(\u001b[0m\u001b[0;34m'text'\u001b[0m\u001b[0;34m)\u001b[0m\u001b[0;34m\u001b[0m\u001b[0;34m\u001b[0m\u001b[0m\n\u001b[1;32m    241\u001b[0m             \u001b[0;32mraise\u001b[0m \u001b[0mexception_class\u001b[0m\u001b[0;34m(\u001b[0m\u001b[0mmessage\u001b[0m\u001b[0;34m,\u001b[0m \u001b[0mscreen\u001b[0m\u001b[0;34m,\u001b[0m \u001b[0mstacktrace\u001b[0m\u001b[0;34m,\u001b[0m \u001b[0malert_text\u001b[0m\u001b[0;34m)\u001b[0m\u001b[0;34m\u001b[0m\u001b[0;34m\u001b[0m\u001b[0m\n\u001b[0;32m--> 242\u001b[0;31m         \u001b[0;32mraise\u001b[0m \u001b[0mexception_class\u001b[0m\u001b[0;34m(\u001b[0m\u001b[0mmessage\u001b[0m\u001b[0;34m,\u001b[0m \u001b[0mscreen\u001b[0m\u001b[0;34m,\u001b[0m \u001b[0mstacktrace\u001b[0m\u001b[0;34m)\u001b[0m\u001b[0;34m\u001b[0m\u001b[0;34m\u001b[0m\u001b[0m\n\u001b[0m\u001b[1;32m    243\u001b[0m \u001b[0;34m\u001b[0m\u001b[0m\n\u001b[1;32m    244\u001b[0m     \u001b[0;32mdef\u001b[0m \u001b[0m_value_or_default\u001b[0m\u001b[0;34m(\u001b[0m\u001b[0mself\u001b[0m\u001b[0;34m,\u001b[0m \u001b[0mobj\u001b[0m\u001b[0;34m,\u001b[0m \u001b[0mkey\u001b[0m\u001b[0;34m,\u001b[0m \u001b[0mdefault\u001b[0m\u001b[0;34m)\u001b[0m\u001b[0;34m:\u001b[0m\u001b[0;34m\u001b[0m\u001b[0;34m\u001b[0m\u001b[0m\n",
      "\u001b[0;31mWebDriverException\u001b[0m: Message: disconnected: Unable to receive message from renderer\n  (Session info: headless chrome=83.0.4103.97)\n"
     ]
    }
   ],
   "source": [
    "for char in ascii_lowercase:\n",
    "    print(char)\n",
    "    for page_num in range(1,10):\n",
    "        driver = webdriver.Chrome(\n",
    "        executable_path = CHROMEDRIVER_PATH,\n",
    "            chrome_options = chrome_options\n",
    "        )\n",
    "        url = \"https://www.world-airport-codes.com/alphabetical/airport-code/\" + char +\".html?page=\" + str(page_num)\n",
    "        driver.get(url)\n",
    "        xpath = \"/html/body/div[1]/div[4]/div/div/div/div/div[2]/main/article/table/tbody/tr[1]/th/a\"\n",
    "        response_data = check_exists_by_xpath(xpath)\n",
    "        if response_data == True:\n",
    "            false_link_count = 0\n",
    "            for i in range(1,150):\n",
    "                if false_link_count < 5:\n",
    "                    xpath = \"/html/body/div[1]/div[4]/div/div/div/div/div[2]/main/article/table/tbody/tr[\" + str(i) + \"]/th/a\"\n",
    "                    response = check_exists_by_xpath(xpath)\n",
    "                    if response == True:\n",
    "                        link_element = driver.find_element_by_xpath(xpath)\n",
    "                        link = link_element.get_attribute('href')\n",
    "                        unused_links.append(link)\n",
    "                    else:\n",
    "                        false_link_count = false_link_count + 1\n",
    "                else:\n",
    "                    break\n",
    "        else:\n",
    "            driver.quit()"
   ]
  },
  {
   "cell_type": "code",
   "execution_count": null,
   "metadata": {},
   "outputs": [],
   "source": []
  },
  {
   "cell_type": "code",
   "execution_count": 15,
   "metadata": {},
   "outputs": [],
   "source": [
    "unused_length = len(unused_links)\n",
    "airport_info = pd.DataFrame()"
   ]
  },
  {
   "cell_type": "code",
   "execution_count": null,
   "metadata": {
    "scrolled": true
   },
   "outputs": [
    {
     "name": "stdout",
     "output_type": "stream",
     "text": [
      "7353\n"
     ]
    },
    {
     "name": "stderr",
     "output_type": "stream",
     "text": [
      "/opt/anaconda3/lib/python3.7/site-packages/ipykernel_launcher.py:6: DeprecationWarning: use options instead of chrome_options\n",
      "  \n"
     ]
    },
    {
     "name": "stdout",
     "output_type": "stream",
     "text": [
      "{'CountryName': 'Australia', 'AirportName': 'Arrabury Airport', 'AirportType': 'Small Airport', 'AirportIATA': 'AAB', 'AirportICAO': 'YARY', 'AirportFAA': '', 'Latitude': '-26.7000008', 'Longitude': '141.0500031', 'TimeZone': 'Australia/Brisbane (GMT +10:00)', 'NumberOfRunways': 1}\n",
      "Used Links : 164, Unused Links : 7188\n"
     ]
    }
   ],
   "source": [
    "print(unused_length)\n",
    "while unused_length != 0:\n",
    "    for unused in unused_links: \n",
    "        driver = webdriver.Chrome(\n",
    "        executable_path = CHROMEDRIVER_PATH,\n",
    "            chrome_options = chrome_options\n",
    "        )\n",
    "        link_process_flag = False\n",
    "        while link_process_flag == False:\n",
    "            try:\n",
    "                driver.get(unused)\n",
    "                \n",
    "                airport_dict = {}\n",
    "                \n",
    "                country_name = unused.split(\"/\")[3].strip().replace(\"-\",\" \").title()\n",
    "                airport_dict[\"CountryName\"] = country_name\n",
    "                \n",
    "                airport_name_xpath = \"/html/body/div[1]/div[4]/div/div/div/div/div[2]/main/article/div/div[1]/div[2]/div[2]/h1\"\n",
    "                airport_name = driver.find_element_by_xpath(airport_name_xpath).text.split(\"(\")[0].rstrip()\n",
    "                airport_dict[\"AirportName\"] = airport_name\n",
    "                \n",
    "                airport_type_xpath = \"/html/body/div[1]/div[4]/div/div/div/div/div[2]/main/article/div/div[1]/div[2]/div[2]/p[1]/span\"\n",
    "                airport_type = driver.find_element_by_xpath(airport_type_xpath).text.title()\n",
    "                airport_dict[\"AirportType\"] = airport_type\n",
    "\n",
    "                airport_iata_xpath = \"/html/body/div[1]/div[4]/div/div/div/div/div[2]/main/article/div/div[3]/div/div[1]/div[1]/span\"\n",
    "                airport_iata = driver.find_element_by_xpath(airport_iata_xpath).text\n",
    "                airport_dict[\"AirportIATA\"] = airport_iata\n",
    "\n",
    "                airport_icao_xpath = \"/html/body/div[1]/div[4]/div/div/div/div/div[2]/main/article/div/div[3]/div/div[1]/div[2]/span\"\n",
    "                airport_icao = driver.find_element_by_xpath(airport_icao_xpath).text\n",
    "                airport_dict[\"AirportICAO\"] = airport_icao\n",
    "\n",
    "                airport_faa_xpath = \"/html/body/div[1]/div[4]/div/div/div/div/div[2]/main/article/div/div[3]/div/div[1]/div[3]/span\"\n",
    "                airport_faa = driver.find_element_by_xpath(airport_faa_xpath).text\n",
    "                airport_dict[\"AirportFAA\"] = airport_faa\n",
    "\n",
    "                latitude_xpath = \"/html/body/div[1]/div[4]/div/div/div/div/div[2]/main/article/div/div[3]/div/div[1]/div[4]/span\"\n",
    "                latitude = driver.find_element_by_xpath(latitude_xpath).text\n",
    "                airport_dict[\"Latitude\"] = latitude\n",
    "\n",
    "                longitude_xpath = \"/html/body/div[1]/div[4]/div/div/div/div/div[2]/main/article/div/div[3]/div/div[1]/div[5]/span\"\n",
    "                longitude = driver.find_element_by_xpath(longitude_xpath).text\n",
    "                airport_dict[\"Longitude\"] = longitude\n",
    "\n",
    "                timzone_xpath = \"/html/body/div[1]/div[4]/div/div/div/div/div[2]/main/article/div/div[3]/div/div[1]/div[6]/span\"\n",
    "                timzone = driver.find_element_by_xpath(timzone_xpath).text\n",
    "                airport_dict[\"TimeZone\"] = timzone\n",
    "\n",
    "                runway_table_xpath = '//*[@id=\"runways-content\"]/div/div[2]/table/tbody/tr'\n",
    "                number_of_runways = len(driver.find_elements_by_xpath(runway_table_xpath)) - 1\n",
    "                airport_dict[\"NumberOfRunways\"] = number_of_runways\n",
    "                print(airport_dict)\n",
    "                link_process_flag = True\n",
    "                airport_info = airport_info.append(airport_dict, ignore_index=True)\n",
    "                used_links.append(unused)\n",
    "                unused_links.remove(unused)\n",
    "                unused_count = len(unused_links)\n",
    "                used_count = len(used_links)\n",
    "                print(\"Used Links : \" + str(used_count) + \", Unused Links : \" + str(unused_count))\n",
    "                driver.quit()\n",
    "            except:\n",
    "                unused_links.remove(unused)\n",
    "                unused_count = len(unused_links)\n",
    "                used_count = len(used_links)\n",
    "                print(\"Used Links : \" + str(used_count) + \", Unused Links : \" + str(unused_count))\n",
    "                link_process_flag = False\n",
    "                driver.quit()\n",
    "col_list = ['AirportName', 'CountryName', 'AirportType', 'AirportIATA', 'AirportICAO', 'AirportFAA', 'Latitude', 'Longitude', 'TimeZone', 'NumberOfRunways']\n",
    "carInfo.reindex(columns=col_list).to_csv(r'/Users/Abhinav/Movies/DataSets/airports_ds.csv',header=True)"
   ]
  },
  {
   "cell_type": "code",
   "execution_count": null,
   "metadata": {},
   "outputs": [],
   "source": []
  },
  {
   "cell_type": "code",
   "execution_count": null,
   "metadata": {},
   "outputs": [],
   "source": []
  },
  {
   "cell_type": "code",
   "execution_count": null,
   "metadata": {},
   "outputs": [],
   "source": []
  }
 ],
 "metadata": {
  "kernelspec": {
   "display_name": "Python 3",
   "language": "python",
   "name": "python3"
  },
  "language_info": {
   "codemirror_mode": {
    "name": "ipython",
    "version": 3
   },
   "file_extension": ".py",
   "mimetype": "text/x-python",
   "name": "python",
   "nbconvert_exporter": "python",
   "pygments_lexer": "ipython3",
   "version": "3.7.6"
  }
 },
 "nbformat": 4,
 "nbformat_minor": 4
}
